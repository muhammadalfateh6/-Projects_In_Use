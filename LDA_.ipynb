{
  "nbformat": 4,
  "nbformat_minor": 0,
  "metadata": {
    "colab": {
      "provenance": []
    },
    "kernelspec": {
      "name": "python3",
      "display_name": "Python 3"
    },
    "language_info": {
      "name": "python"
    }
  },
  "cells": [
    {
      "cell_type": "code",
      "source": [
        "pip install pandas==1.5.3"
      ],
      "metadata": {
        "colab": {
          "base_uri": "https://localhost:8080/",
          "height": 447
        },
        "id": "b5YGc8pl7K4I",
        "outputId": "7f8b588f-847c-48b6-9eee-eeccba053ecb"
      },
      "execution_count": 12,
      "outputs": [
        {
          "output_type": "stream",
          "name": "stderr",
          "text": [
            "/usr/local/lib/python3.10/dist-packages/ipykernel/ipkernel.py:283: DeprecationWarning: `should_run_async` will not call `transform_cell` automatically in the future. Please pass the result to `transformed_cell` argument and any exception that happen during thetransform in `preprocessing_exc_tuple` in IPython 7.17 and above.\n",
            "  and should_run_async(code)\n"
          ]
        },
        {
          "output_type": "stream",
          "name": "stdout",
          "text": [
            "Collecting pandas==1.5.3\n",
            "  Downloading pandas-1.5.3-cp310-cp310-manylinux_2_17_x86_64.manylinux2014_x86_64.whl (12.1 MB)\n",
            "\u001b[2K     \u001b[90m━━━━━━━━━━━━━━━━━━━━━━━━━━━━━━━━━━━━━━━━\u001b[0m \u001b[32m12.1/12.1 MB\u001b[0m \u001b[31m67.5 MB/s\u001b[0m eta \u001b[36m0:00:00\u001b[0m\n",
            "\u001b[?25hRequirement already satisfied: python-dateutil>=2.8.1 in /usr/local/lib/python3.10/dist-packages (from pandas==1.5.3) (2.8.2)\n",
            "Requirement already satisfied: pytz>=2020.1 in /usr/local/lib/python3.10/dist-packages (from pandas==1.5.3) (2023.3.post1)\n",
            "Requirement already satisfied: numpy>=1.21.0 in /usr/local/lib/python3.10/dist-packages (from pandas==1.5.3) (1.26.0)\n",
            "Requirement already satisfied: six>=1.5 in /usr/local/lib/python3.10/dist-packages (from python-dateutil>=2.8.1->pandas==1.5.3) (1.16.0)\n",
            "Installing collected packages: pandas\n",
            "  Attempting uninstall: pandas\n",
            "    Found existing installation: pandas 2.1.1\n",
            "    Uninstalling pandas-2.1.1:\n",
            "      Successfully uninstalled pandas-2.1.1\n",
            "\u001b[31mERROR: pip's dependency resolver does not currently take into account all the packages that are installed. This behaviour is the source of the following dependency conflicts.\n",
            "pyldavis 3.4.1 requires pandas>=2.0.0, but you have pandas 1.5.3 which is incompatible.\u001b[0m\u001b[31m\n",
            "\u001b[0mSuccessfully installed pandas-1.5.3\n"
          ]
        },
        {
          "output_type": "display_data",
          "data": {
            "application/vnd.colab-display-data+json": {
              "pip_warning": {
                "packages": [
                  "pandas"
                ]
              }
            }
          },
          "metadata": {}
        }
      ]
    },
    {
      "cell_type": "code",
      "source": [
        "pip install pyLDAvis"
      ],
      "metadata": {
        "colab": {
          "base_uri": "https://localhost:8080/"
        },
        "id": "hdLLoSih5ZWT",
        "outputId": "a60e5d6a-def7-408d-9340-172f68ca0f19"
      },
      "execution_count": 2,
      "outputs": [
        {
          "output_type": "stream",
          "name": "stdout",
          "text": [
            "Collecting pyLDAvis\n",
            "  Downloading pyLDAvis-3.4.1-py3-none-any.whl (2.6 MB)\n",
            "\u001b[2K     \u001b[90m━━━━━━━━━━━━━━━━━━━━━━━━━━━━━━━━━━━━━━━━\u001b[0m \u001b[32m2.6/2.6 MB\u001b[0m \u001b[31m13.6 MB/s\u001b[0m eta \u001b[36m0:00:00\u001b[0m\n",
            "\u001b[?25hCollecting numpy>=1.24.2 (from pyLDAvis)\n",
            "  Downloading numpy-1.26.0-cp310-cp310-manylinux_2_17_x86_64.manylinux2014_x86_64.whl (18.2 MB)\n",
            "\u001b[2K     \u001b[90m━━━━━━━━━━━━━━━━━━━━━━━━━━━━━━━━━━━━━━━━\u001b[0m \u001b[32m18.2/18.2 MB\u001b[0m \u001b[31m32.3 MB/s\u001b[0m eta \u001b[36m0:00:00\u001b[0m\n",
            "\u001b[?25hRequirement already satisfied: scipy in /usr/local/lib/python3.10/dist-packages (from pyLDAvis) (1.11.2)\n",
            "Collecting pandas>=2.0.0 (from pyLDAvis)\n",
            "  Downloading pandas-2.1.1-cp310-cp310-manylinux_2_17_x86_64.manylinux2014_x86_64.whl (12.3 MB)\n",
            "\u001b[2K     \u001b[90m━━━━━━━━━━━━━━━━━━━━━━━━━━━━━━━━━━━━━━━━\u001b[0m \u001b[32m12.3/12.3 MB\u001b[0m \u001b[31m66.8 MB/s\u001b[0m eta \u001b[36m0:00:00\u001b[0m\n",
            "\u001b[?25hRequirement already satisfied: joblib>=1.2.0 in /usr/local/lib/python3.10/dist-packages (from pyLDAvis) (1.3.2)\n",
            "Requirement already satisfied: jinja2 in /usr/local/lib/python3.10/dist-packages (from pyLDAvis) (3.1.2)\n",
            "Requirement already satisfied: numexpr in /usr/local/lib/python3.10/dist-packages (from pyLDAvis) (2.8.5)\n",
            "Collecting funcy (from pyLDAvis)\n",
            "  Downloading funcy-2.0-py2.py3-none-any.whl (30 kB)\n",
            "Requirement already satisfied: scikit-learn>=1.0.0 in /usr/local/lib/python3.10/dist-packages (from pyLDAvis) (1.2.2)\n",
            "Requirement already satisfied: gensim in /usr/local/lib/python3.10/dist-packages (from pyLDAvis) (4.3.2)\n",
            "Requirement already satisfied: setuptools in /usr/local/lib/python3.10/dist-packages (from pyLDAvis) (67.7.2)\n",
            "Requirement already satisfied: python-dateutil>=2.8.2 in /usr/local/lib/python3.10/dist-packages (from pandas>=2.0.0->pyLDAvis) (2.8.2)\n",
            "Requirement already satisfied: pytz>=2020.1 in /usr/local/lib/python3.10/dist-packages (from pandas>=2.0.0->pyLDAvis) (2023.3.post1)\n",
            "Collecting tzdata>=2022.1 (from pandas>=2.0.0->pyLDAvis)\n",
            "  Downloading tzdata-2023.3-py2.py3-none-any.whl (341 kB)\n",
            "\u001b[2K     \u001b[90m━━━━━━━━━━━━━━━━━━━━━━━━━━━━━━━━━━━━━━\u001b[0m \u001b[32m341.8/341.8 kB\u001b[0m \u001b[31m29.2 MB/s\u001b[0m eta \u001b[36m0:00:00\u001b[0m\n",
            "\u001b[?25hRequirement already satisfied: threadpoolctl>=2.0.0 in /usr/local/lib/python3.10/dist-packages (from scikit-learn>=1.0.0->pyLDAvis) (3.2.0)\n",
            "Requirement already satisfied: smart-open>=1.8.1 in /usr/local/lib/python3.10/dist-packages (from gensim->pyLDAvis) (6.4.0)\n",
            "Requirement already satisfied: MarkupSafe>=2.0 in /usr/local/lib/python3.10/dist-packages (from jinja2->pyLDAvis) (2.1.3)\n",
            "Requirement already satisfied: six>=1.5 in /usr/local/lib/python3.10/dist-packages (from python-dateutil>=2.8.2->pandas>=2.0.0->pyLDAvis) (1.16.0)\n",
            "Installing collected packages: funcy, tzdata, numpy, pandas, pyLDAvis\n",
            "  Attempting uninstall: numpy\n",
            "    Found existing installation: numpy 1.23.5\n",
            "    Uninstalling numpy-1.23.5:\n",
            "      Successfully uninstalled numpy-1.23.5\n",
            "  Attempting uninstall: pandas\n",
            "    Found existing installation: pandas 1.5.3\n",
            "    Uninstalling pandas-1.5.3:\n",
            "      Successfully uninstalled pandas-1.5.3\n",
            "\u001b[31mERROR: pip's dependency resolver does not currently take into account all the packages that are installed. This behaviour is the source of the following dependency conflicts.\n",
            "google-colab 1.0.0 requires pandas==1.5.3, but you have pandas 2.1.1 which is incompatible.\n",
            "numba 0.56.4 requires numpy<1.24,>=1.18, but you have numpy 1.26.0 which is incompatible.\n",
            "tensorflow 2.13.0 requires numpy<=1.24.3,>=1.22, but you have numpy 1.26.0 which is incompatible.\u001b[0m\u001b[31m\n",
            "\u001b[0mSuccessfully installed funcy-2.0 numpy-1.26.0 pandas-2.1.1 pyLDAvis-3.4.1 tzdata-2023.3\n"
          ]
        }
      ]
    },
    {
      "cell_type": "code",
      "source": [
        "# pip install pandas==1.5.3\n",
        "# pip install pyLDAvis"
      ],
      "metadata": {
        "id": "OKUuDX4gL3DE"
      },
      "execution_count": null,
      "outputs": []
    },
    {
      "cell_type": "code",
      "execution_count": 61,
      "metadata": {
        "id": "3tyuYV2RHqfS",
        "colab": {
          "base_uri": "https://localhost:8080/"
        },
        "outputId": "794baa3c-4499-41e6-a1a3-722e747e60fc"
      },
      "outputs": [
        {
          "output_type": "stream",
          "name": "stderr",
          "text": [
            "/usr/local/lib/python3.10/dist-packages/ipykernel/ipkernel.py:283: DeprecationWarning: `should_run_async` will not call `transform_cell` automatically in the future. Please pass the result to `transformed_cell` argument and any exception that happen during thetransform in `preprocessing_exc_tuple` in IPython 7.17 and above.\n",
            "  and should_run_async(code)\n"
          ]
        }
      ],
      "source": [
        "import pandas as pd\n",
        "import nltk\n",
        "from nltk.corpus import stopwords\n",
        "from sklearn.feature_extraction.text import TfidfVectorizer\n",
        "from tashaphyne.stemming import ArabicLightStemmer\n",
        "from gensim.utils import simple_preprocess\n",
        "from gensim import models, matutils\n",
        "from gensim.corpora import Dictionary\n",
        "from gensim.models import CoherenceModel\n",
        "import pyLDAvis\n",
        "import pyLDAvis.gensim"
      ]
    },
    {
      "cell_type": "code",
      "source": [
        "df = pd.read_csv('/content/document_dataset (1) (1).csv')\n",
        "\n",
        "nltk.download('stopwords')\n",
        "arabic_stop_words = set(stopwords.words('arabic'))"
      ],
      "metadata": {
        "colab": {
          "base_uri": "https://localhost:8080/"
        },
        "id": "keXMH4JcMCQ8",
        "outputId": "46c7eaa0-ec27-44cb-ed31-88d893b4af2b"
      },
      "execution_count": 62,
      "outputs": [
        {
          "output_type": "stream",
          "name": "stderr",
          "text": [
            "/usr/local/lib/python3.10/dist-packages/ipykernel/ipkernel.py:283: DeprecationWarning: `should_run_async` will not call `transform_cell` automatically in the future. Please pass the result to `transformed_cell` argument and any exception that happen during thetransform in `preprocessing_exc_tuple` in IPython 7.17 and above.\n",
            "  and should_run_async(code)\n",
            "[nltk_data] Downloading package stopwords to /root/nltk_data...\n",
            "[nltk_data]   Package stopwords is already up-to-date!\n"
          ]
        }
      ]
    },
    {
      "cell_type": "code",
      "source": [
        "def select_class(the_label):\n",
        "    global class_selected\n",
        "    class_selected = df[df[the_label] == 1]\n",
        "    return class_selected\n",
        "\n",
        "\n",
        "def list_text(text_to_list):\n",
        "    list_name = []\n",
        "    for i in range(0, len(text_to_list)):\n",
        "        extracted_text = text_to_list.iloc[i, 3]\n",
        "        list_name.append(extracted_text)\n",
        "    return list_name\n",
        "\n",
        "\n",
        "def show_stopwords():\n",
        "    return arabic_stop_words\n",
        "\n",
        "\n",
        "def tokenize_stemming_stopwords(the_text):\n",
        "    tokenized_text = simple_preprocess(the_text)\n",
        "    filtered_tokens = [token for token in tokenized_text if token not in arabic_stop_words]\n",
        "    stemmer = ArabicLightStemmer()\n",
        "    ready_text = [stemmer.light_stem(word) for word in filtered_tokens]\n",
        "    return ready_text\n",
        "\n",
        "\n",
        "def apply_tf_idf(text_list):\n",
        "    global corpus, id2word\n",
        "    vectorizer = TfidfVectorizer()\n",
        "    tfidf = vectorizer.fit_transform(text_list)\n",
        "    id2word = {v: k for k, v in vectorizer.vocabulary_.items()}\n",
        "    corpus = matutils.Sparse2Corpus(tfidf, documents_columns=False)\n",
        "    id2word = Dictionary.from_corpus(corpus, id2word=id2word)\n",
        "    return tfidf"
      ],
      "metadata": {
        "colab": {
          "base_uri": "https://localhost:8080/"
        },
        "id": "qbfvfQ9cL-xE",
        "outputId": "25f0044b-86fa-4941-f180-31d69fdf43d5"
      },
      "execution_count": 63,
      "outputs": [
        {
          "output_type": "stream",
          "name": "stderr",
          "text": [
            "/usr/local/lib/python3.10/dist-packages/ipykernel/ipkernel.py:283: DeprecationWarning: `should_run_async` will not call `transform_cell` automatically in the future. Please pass the result to `transformed_cell` argument and any exception that happen during thetransform in `preprocessing_exc_tuple` in IPython 7.17 and above.\n",
            "  and should_run_async(code)\n"
          ]
        }
      ]
    },
    {
      "cell_type": "code",
      "source": [
        "df.head()"
      ],
      "metadata": {
        "colab": {
          "base_uri": "https://localhost:8080/",
          "height": 332
        },
        "id": "_gZxpBRoOX2L",
        "outputId": "d1a8baa1-7c4c-4959-b8c6-7af3bfc8cf6c"
      },
      "execution_count": null,
      "outputs": [
        {
          "output_type": "stream",
          "name": "stderr",
          "text": [
            "/usr/local/lib/python3.10/dist-packages/ipykernel/ipkernel.py:283: DeprecationWarning: `should_run_async` will not call `transform_cell` automatically in the future. Please pass the result to `transformed_cell` argument and any exception that happen during thetransform in `preprocessing_exc_tuple` in IPython 7.17 and above.\n",
            "  and should_run_async(code)\n"
          ]
        },
        {
          "output_type": "execute_result",
          "data": {
            "text/plain": [
              "   id                                 title                        author  \\\n",
              "0  13                         لساناً عربيا                 مناضل حسين علي   \n",
              "1  42  خروج الوهابية على الخلافة العثمانية    قراءة تاريخية ومناقشة شرعية   \n",
              "2  72    القول المفيد في أحكام صيام العبيد                       ياسر علي   \n",
              "3  78                           حكم ووصايا      الشيخ عبد القادر الجيلاني   \n",
              "4  63  الحركة الوهابية صنيعة الأيدي الخفية                  عبد الله عكور   \n",
              "\n",
              "                                                data  Class 199  Class 22  \\\n",
              "0  1 2 3 ﺦﺧ ػﺭ٤ﺥ ﺥ ﻙ٤ ػ٢ ـ 1 4 ﺍﻼﻫﺩﺍﺀ ﻼﯨ ﺹﺎﺤﺑ ﻻﺮﺳ...          0         0   \n",
              "1  ﻳﺎﺳﻴﻦ ﺑﻦ ﻋﻠﻲ �� �� ﺧﺮﻭﺝ ﺍﻟﻮﻫﺎﺑﻴﺔ ﺧﺮﻭﺝ ﺍﻟﻮﻫﺎﺑﻴﺔ...          1         0   \n",
              "2  ﺎﻤﻠﻔﻳﺩ ﻼﻗﻮﻟ ﻲﻓ ﻼﻌﺒﻳﺩ ﺺﻳﺎﻣ ﺄﺤﻛﺎﻣ ))ﺢﺒﺛ ﻢﻔﻳﺩ ﺞﻴﻤ...          0         0   \n",
              "3  -١ - – – -2 -  ﺎﻤﻟﻭﺎﺼﻓﺎﺗ ﻼﻔﻨﻳﺓ ﺡ ﻡ ﻭﻮﺻﺎﻳﺎﻣﻭﻭﻭ...          1         0   \n",
              "4  ﺲﻠﺴﻟﺓ ﻚﺸﻓ ﺢﻘﻴﻗﺓ ﻻﻮﻫﺎﺒﻳﺓ )7( ﺎﺤﻟﺮﻛﺓ ﻻﻮﻫﺎﺒﻳﺓ ﻱﺪﻳ...          1         0   \n",
              "\n",
              "   Class 252  Class 303  Class 326  Class 34  Class 366  Class 422  Class 461  \\\n",
              "0          0          0          0         0          0          0          0   \n",
              "1          0          0          0         0          1          0          0   \n",
              "2          0          0          0         0          0          0          0   \n",
              "3          0          0          0         0          0          0          0   \n",
              "4          0          0          0         0          1          1          0   \n",
              "\n",
              "   Class 467  Class 69  Class 83  \n",
              "0          1         0         0  \n",
              "1          0         0         1  \n",
              "2          0         0         1  \n",
              "3          0         0         1  \n",
              "4          0         0         0  "
            ],
            "text/html": [
              "\n",
              "  <div id=\"df-e6e810af-2928-4fd5-985d-063b4400b840\" class=\"colab-df-container\">\n",
              "    <div>\n",
              "<style scoped>\n",
              "    .dataframe tbody tr th:only-of-type {\n",
              "        vertical-align: middle;\n",
              "    }\n",
              "\n",
              "    .dataframe tbody tr th {\n",
              "        vertical-align: top;\n",
              "    }\n",
              "\n",
              "    .dataframe thead th {\n",
              "        text-align: right;\n",
              "    }\n",
              "</style>\n",
              "<table border=\"1\" class=\"dataframe\">\n",
              "  <thead>\n",
              "    <tr style=\"text-align: right;\">\n",
              "      <th></th>\n",
              "      <th>id</th>\n",
              "      <th>title</th>\n",
              "      <th>author</th>\n",
              "      <th>data</th>\n",
              "      <th>Class 199</th>\n",
              "      <th>Class 22</th>\n",
              "      <th>Class 252</th>\n",
              "      <th>Class 303</th>\n",
              "      <th>Class 326</th>\n",
              "      <th>Class 34</th>\n",
              "      <th>Class 366</th>\n",
              "      <th>Class 422</th>\n",
              "      <th>Class 461</th>\n",
              "      <th>Class 467</th>\n",
              "      <th>Class 69</th>\n",
              "      <th>Class 83</th>\n",
              "    </tr>\n",
              "  </thead>\n",
              "  <tbody>\n",
              "    <tr>\n",
              "      <th>0</th>\n",
              "      <td>13</td>\n",
              "      <td>لساناً عربيا</td>\n",
              "      <td>مناضل حسين علي</td>\n",
              "      <td>1 2 3 ﺦﺧ ػﺭ٤ﺥ ﺥ ﻙ٤ ػ٢ ـ 1 4 ﺍﻼﻫﺩﺍﺀ ﻼﯨ ﺹﺎﺤﺑ ﻻﺮﺳ...</td>\n",
              "      <td>0</td>\n",
              "      <td>0</td>\n",
              "      <td>0</td>\n",
              "      <td>0</td>\n",
              "      <td>0</td>\n",
              "      <td>0</td>\n",
              "      <td>0</td>\n",
              "      <td>0</td>\n",
              "      <td>0</td>\n",
              "      <td>1</td>\n",
              "      <td>0</td>\n",
              "      <td>0</td>\n",
              "    </tr>\n",
              "    <tr>\n",
              "      <th>1</th>\n",
              "      <td>42</td>\n",
              "      <td>خروج الوهابية على الخلافة العثمانية</td>\n",
              "      <td>قراءة تاريخية ومناقشة شرعية</td>\n",
              "      <td>ﻳﺎﺳﻴﻦ ﺑﻦ ﻋﻠﻲ �� �� ﺧﺮﻭﺝ ﺍﻟﻮﻫﺎﺑﻴﺔ ﺧﺮﻭﺝ ﺍﻟﻮﻫﺎﺑﻴﺔ...</td>\n",
              "      <td>1</td>\n",
              "      <td>0</td>\n",
              "      <td>0</td>\n",
              "      <td>0</td>\n",
              "      <td>0</td>\n",
              "      <td>0</td>\n",
              "      <td>1</td>\n",
              "      <td>0</td>\n",
              "      <td>0</td>\n",
              "      <td>0</td>\n",
              "      <td>0</td>\n",
              "      <td>1</td>\n",
              "    </tr>\n",
              "    <tr>\n",
              "      <th>2</th>\n",
              "      <td>72</td>\n",
              "      <td>القول المفيد في أحكام صيام العبيد</td>\n",
              "      <td>ياسر علي</td>\n",
              "      <td>ﺎﻤﻠﻔﻳﺩ ﻼﻗﻮﻟ ﻲﻓ ﻼﻌﺒﻳﺩ ﺺﻳﺎﻣ ﺄﺤﻛﺎﻣ ))ﺢﺒﺛ ﻢﻔﻳﺩ ﺞﻴﻤ...</td>\n",
              "      <td>0</td>\n",
              "      <td>0</td>\n",
              "      <td>0</td>\n",
              "      <td>0</td>\n",
              "      <td>0</td>\n",
              "      <td>0</td>\n",
              "      <td>0</td>\n",
              "      <td>0</td>\n",
              "      <td>0</td>\n",
              "      <td>0</td>\n",
              "      <td>0</td>\n",
              "      <td>1</td>\n",
              "    </tr>\n",
              "    <tr>\n",
              "      <th>3</th>\n",
              "      <td>78</td>\n",
              "      <td>حكم ووصايا</td>\n",
              "      <td>الشيخ عبد القادر الجيلاني</td>\n",
              "      <td>-١ - – – -2 -  ﺎﻤﻟﻭﺎﺼﻓﺎﺗ ﻼﻔﻨﻳﺓ ﺡ ﻡ ﻭﻮﺻﺎﻳﺎﻣﻭﻭﻭ...</td>\n",
              "      <td>1</td>\n",
              "      <td>0</td>\n",
              "      <td>0</td>\n",
              "      <td>0</td>\n",
              "      <td>0</td>\n",
              "      <td>0</td>\n",
              "      <td>0</td>\n",
              "      <td>0</td>\n",
              "      <td>0</td>\n",
              "      <td>0</td>\n",
              "      <td>0</td>\n",
              "      <td>1</td>\n",
              "    </tr>\n",
              "    <tr>\n",
              "      <th>4</th>\n",
              "      <td>63</td>\n",
              "      <td>الحركة الوهابية صنيعة الأيدي الخفية</td>\n",
              "      <td>عبد الله عكور</td>\n",
              "      <td>ﺲﻠﺴﻟﺓ ﻚﺸﻓ ﺢﻘﻴﻗﺓ ﻻﻮﻫﺎﺒﻳﺓ )7( ﺎﺤﻟﺮﻛﺓ ﻻﻮﻫﺎﺒﻳﺓ ﻱﺪﻳ...</td>\n",
              "      <td>1</td>\n",
              "      <td>0</td>\n",
              "      <td>0</td>\n",
              "      <td>0</td>\n",
              "      <td>0</td>\n",
              "      <td>0</td>\n",
              "      <td>1</td>\n",
              "      <td>1</td>\n",
              "      <td>0</td>\n",
              "      <td>0</td>\n",
              "      <td>0</td>\n",
              "      <td>0</td>\n",
              "    </tr>\n",
              "  </tbody>\n",
              "</table>\n",
              "</div>\n",
              "    <div class=\"colab-df-buttons\">\n",
              "\n",
              "  <div class=\"colab-df-container\">\n",
              "    <button class=\"colab-df-convert\" onclick=\"convertToInteractive('df-e6e810af-2928-4fd5-985d-063b4400b840')\"\n",
              "            title=\"Convert this dataframe to an interactive table.\"\n",
              "            style=\"display:none;\">\n",
              "\n",
              "  <svg xmlns=\"http://www.w3.org/2000/svg\" height=\"24px\" viewBox=\"0 -960 960 960\">\n",
              "    <path d=\"M120-120v-720h720v720H120Zm60-500h600v-160H180v160Zm220 220h160v-160H400v160Zm0 220h160v-160H400v160ZM180-400h160v-160H180v160Zm440 0h160v-160H620v160ZM180-180h160v-160H180v160Zm440 0h160v-160H620v160Z\"/>\n",
              "  </svg>\n",
              "    </button>\n",
              "\n",
              "  <style>\n",
              "    .colab-df-container {\n",
              "      display:flex;\n",
              "      gap: 12px;\n",
              "    }\n",
              "\n",
              "    .colab-df-convert {\n",
              "      background-color: #E8F0FE;\n",
              "      border: none;\n",
              "      border-radius: 50%;\n",
              "      cursor: pointer;\n",
              "      display: none;\n",
              "      fill: #1967D2;\n",
              "      height: 32px;\n",
              "      padding: 0 0 0 0;\n",
              "      width: 32px;\n",
              "    }\n",
              "\n",
              "    .colab-df-convert:hover {\n",
              "      background-color: #E2EBFA;\n",
              "      box-shadow: 0px 1px 2px rgba(60, 64, 67, 0.3), 0px 1px 3px 1px rgba(60, 64, 67, 0.15);\n",
              "      fill: #174EA6;\n",
              "    }\n",
              "\n",
              "    .colab-df-buttons div {\n",
              "      margin-bottom: 4px;\n",
              "    }\n",
              "\n",
              "    [theme=dark] .colab-df-convert {\n",
              "      background-color: #3B4455;\n",
              "      fill: #D2E3FC;\n",
              "    }\n",
              "\n",
              "    [theme=dark] .colab-df-convert:hover {\n",
              "      background-color: #434B5C;\n",
              "      box-shadow: 0px 1px 3px 1px rgba(0, 0, 0, 0.15);\n",
              "      filter: drop-shadow(0px 1px 2px rgba(0, 0, 0, 0.3));\n",
              "      fill: #FFFFFF;\n",
              "    }\n",
              "  </style>\n",
              "\n",
              "    <script>\n",
              "      const buttonEl =\n",
              "        document.querySelector('#df-e6e810af-2928-4fd5-985d-063b4400b840 button.colab-df-convert');\n",
              "      buttonEl.style.display =\n",
              "        google.colab.kernel.accessAllowed ? 'block' : 'none';\n",
              "\n",
              "      async function convertToInteractive(key) {\n",
              "        const element = document.querySelector('#df-e6e810af-2928-4fd5-985d-063b4400b840');\n",
              "        const dataTable =\n",
              "          await google.colab.kernel.invokeFunction('convertToInteractive',\n",
              "                                                    [key], {});\n",
              "        if (!dataTable) return;\n",
              "\n",
              "        const docLinkHtml = 'Like what you see? Visit the ' +\n",
              "          '<a target=\"_blank\" href=https://colab.research.google.com/notebooks/data_table.ipynb>data table notebook</a>'\n",
              "          + ' to learn more about interactive tables.';\n",
              "        element.innerHTML = '';\n",
              "        dataTable['output_type'] = 'display_data';\n",
              "        await google.colab.output.renderOutput(dataTable, element);\n",
              "        const docLink = document.createElement('div');\n",
              "        docLink.innerHTML = docLinkHtml;\n",
              "        element.appendChild(docLink);\n",
              "      }\n",
              "    </script>\n",
              "  </div>\n",
              "\n",
              "\n",
              "<div id=\"df-1f879a6d-73df-4113-af40-68a783f2f0d0\">\n",
              "  <button class=\"colab-df-quickchart\" onclick=\"quickchart('df-1f879a6d-73df-4113-af40-68a783f2f0d0')\"\n",
              "            title=\"Suggest charts.\"\n",
              "            style=\"display:none;\">\n",
              "\n",
              "<svg xmlns=\"http://www.w3.org/2000/svg\" height=\"24px\"viewBox=\"0 0 24 24\"\n",
              "     width=\"24px\">\n",
              "    <g>\n",
              "        <path d=\"M19 3H5c-1.1 0-2 .9-2 2v14c0 1.1.9 2 2 2h14c1.1 0 2-.9 2-2V5c0-1.1-.9-2-2-2zM9 17H7v-7h2v7zm4 0h-2V7h2v10zm4 0h-2v-4h2v4z\"/>\n",
              "    </g>\n",
              "</svg>\n",
              "  </button>\n",
              "\n",
              "<style>\n",
              "  .colab-df-quickchart {\n",
              "      --bg-color: #E8F0FE;\n",
              "      --fill-color: #1967D2;\n",
              "      --hover-bg-color: #E2EBFA;\n",
              "      --hover-fill-color: #174EA6;\n",
              "      --disabled-fill-color: #AAA;\n",
              "      --disabled-bg-color: #DDD;\n",
              "  }\n",
              "\n",
              "  [theme=dark] .colab-df-quickchart {\n",
              "      --bg-color: #3B4455;\n",
              "      --fill-color: #D2E3FC;\n",
              "      --hover-bg-color: #434B5C;\n",
              "      --hover-fill-color: #FFFFFF;\n",
              "      --disabled-bg-color: #3B4455;\n",
              "      --disabled-fill-color: #666;\n",
              "  }\n",
              "\n",
              "  .colab-df-quickchart {\n",
              "    background-color: var(--bg-color);\n",
              "    border: none;\n",
              "    border-radius: 50%;\n",
              "    cursor: pointer;\n",
              "    display: none;\n",
              "    fill: var(--fill-color);\n",
              "    height: 32px;\n",
              "    padding: 0;\n",
              "    width: 32px;\n",
              "  }\n",
              "\n",
              "  .colab-df-quickchart:hover {\n",
              "    background-color: var(--hover-bg-color);\n",
              "    box-shadow: 0 1px 2px rgba(60, 64, 67, 0.3), 0 1px 3px 1px rgba(60, 64, 67, 0.15);\n",
              "    fill: var(--button-hover-fill-color);\n",
              "  }\n",
              "\n",
              "  .colab-df-quickchart-complete:disabled,\n",
              "  .colab-df-quickchart-complete:disabled:hover {\n",
              "    background-color: var(--disabled-bg-color);\n",
              "    fill: var(--disabled-fill-color);\n",
              "    box-shadow: none;\n",
              "  }\n",
              "\n",
              "  .colab-df-spinner {\n",
              "    border: 2px solid var(--fill-color);\n",
              "    border-color: transparent;\n",
              "    border-bottom-color: var(--fill-color);\n",
              "    animation:\n",
              "      spin 1s steps(1) infinite;\n",
              "  }\n",
              "\n",
              "  @keyframes spin {\n",
              "    0% {\n",
              "      border-color: transparent;\n",
              "      border-bottom-color: var(--fill-color);\n",
              "      border-left-color: var(--fill-color);\n",
              "    }\n",
              "    20% {\n",
              "      border-color: transparent;\n",
              "      border-left-color: var(--fill-color);\n",
              "      border-top-color: var(--fill-color);\n",
              "    }\n",
              "    30% {\n",
              "      border-color: transparent;\n",
              "      border-left-color: var(--fill-color);\n",
              "      border-top-color: var(--fill-color);\n",
              "      border-right-color: var(--fill-color);\n",
              "    }\n",
              "    40% {\n",
              "      border-color: transparent;\n",
              "      border-right-color: var(--fill-color);\n",
              "      border-top-color: var(--fill-color);\n",
              "    }\n",
              "    60% {\n",
              "      border-color: transparent;\n",
              "      border-right-color: var(--fill-color);\n",
              "    }\n",
              "    80% {\n",
              "      border-color: transparent;\n",
              "      border-right-color: var(--fill-color);\n",
              "      border-bottom-color: var(--fill-color);\n",
              "    }\n",
              "    90% {\n",
              "      border-color: transparent;\n",
              "      border-bottom-color: var(--fill-color);\n",
              "    }\n",
              "  }\n",
              "</style>\n",
              "\n",
              "  <script>\n",
              "    async function quickchart(key) {\n",
              "      const quickchartButtonEl =\n",
              "        document.querySelector('#' + key + ' button');\n",
              "      quickchartButtonEl.disabled = true;  // To prevent multiple clicks.\n",
              "      quickchartButtonEl.classList.add('colab-df-spinner');\n",
              "      try {\n",
              "        const charts = await google.colab.kernel.invokeFunction(\n",
              "            'suggestCharts', [key], {});\n",
              "      } catch (error) {\n",
              "        console.error('Error during call to suggestCharts:', error);\n",
              "      }\n",
              "      quickchartButtonEl.classList.remove('colab-df-spinner');\n",
              "      quickchartButtonEl.classList.add('colab-df-quickchart-complete');\n",
              "    }\n",
              "    (() => {\n",
              "      let quickchartButtonEl =\n",
              "        document.querySelector('#df-1f879a6d-73df-4113-af40-68a783f2f0d0 button');\n",
              "      quickchartButtonEl.style.display =\n",
              "        google.colab.kernel.accessAllowed ? 'block' : 'none';\n",
              "    })();\n",
              "  </script>\n",
              "</div>\n",
              "    </div>\n",
              "  </div>\n"
            ]
          },
          "metadata": {},
          "execution_count": 4
        }
      ]
    },
    {
      "cell_type": "code",
      "source": [
        "class_30 = select_class(\"Class 326\")\n",
        "class30_list = list_text(class_30)\n",
        "final_text = tokenize_stemming_stopwords(class30_list[5])\n",
        "class30_tfidf = apply_tf_idf(final_text)"
      ],
      "metadata": {
        "colab": {
          "base_uri": "https://localhost:8080/"
        },
        "id": "KVTxA3iwbV5O",
        "outputId": "ca5dd4c2-c1fd-41dd-f884-666e50f8d93a"
      },
      "execution_count": 57,
      "outputs": [
        {
          "output_type": "stream",
          "name": "stderr",
          "text": [
            "/usr/local/lib/python3.10/dist-packages/ipykernel/ipkernel.py:283: DeprecationWarning: `should_run_async` will not call `transform_cell` automatically in the future. Please pass the result to `transformed_cell` argument and any exception that happen during thetransform in `preprocessing_exc_tuple` in IPython 7.17 and above.\n",
            "  and should_run_async(code)\n"
          ]
        }
      ]
    },
    {
      "cell_type": "code",
      "source": [
        "print(class30_tfidf.toarray())"
      ],
      "metadata": {
        "colab": {
          "base_uri": "https://localhost:8080/"
        },
        "id": "a6KDpIVc334c",
        "outputId": "08497991-a16b-4cbd-83c1-e1d6ff228974"
      },
      "execution_count": 41,
      "outputs": [
        {
          "output_type": "stream",
          "name": "stdout",
          "text": [
            "[[0. 0. 0. ... 0. 0. 0.]\n",
            " [0. 0. 0. ... 0. 0. 0.]\n",
            " [0. 0. 1. ... 0. 0. 0.]\n",
            " ...\n",
            " [0. 0. 0. ... 0. 0. 0.]\n",
            " [0. 1. 0. ... 0. 0. 0.]\n",
            " [0. 0. 0. ... 0. 0. 0.]]\n"
          ]
        },
        {
          "output_type": "stream",
          "name": "stderr",
          "text": [
            "/usr/local/lib/python3.10/dist-packages/ipykernel/ipkernel.py:283: DeprecationWarning: `should_run_async` will not call `transform_cell` automatically in the future. Please pass the result to `transformed_cell` argument and any exception that happen during thetransform in `preprocessing_exc_tuple` in IPython 7.17 and above.\n",
            "  and should_run_async(code)\n"
          ]
        }
      ]
    },
    {
      "cell_type": "code",
      "source": [
        "model_lda = models.LdaModel(corpus=corpus, num_topics=2, id2word=id2word, passes=20)\n",
        "pyLDAvis.enable_notebook()\n",
        "vis = pyLDAvis.gensim.prepare(model_lda, corpus, id2word, mds='mmds', R=10)\n",
        "vis"
      ],
      "metadata": {
        "colab": {
          "base_uri": "https://localhost:8080/",
          "height": 954
        },
        "id": "bLDhESdy5aZu",
        "outputId": "bb04e3bd-8264-4f18-8518-fdac20689de4"
      },
      "execution_count": 59,
      "outputs": [
        {
          "output_type": "stream",
          "name": "stderr",
          "text": [
            "/usr/local/lib/python3.10/dist-packages/ipykernel/ipkernel.py:283: DeprecationWarning: `should_run_async` will not call `transform_cell` automatically in the future. Please pass the result to `transformed_cell` argument and any exception that happen during thetransform in `preprocessing_exc_tuple` in IPython 7.17 and above.\n",
            "  and should_run_async(code)\n",
            "/usr/local/lib/python3.10/dist-packages/sklearn/manifold/_mds.py:299: FutureWarning: The default value of `normalized_stress` will change to `'auto'` in version 1.4. To suppress this warning, manually set the value of `normalized_stress`.\n",
            "  warnings.warn(\n"
          ]
        },
        {
          "output_type": "execute_result",
          "data": {
            "text/plain": [
              "PreparedData(topic_coordinates=              x         y  topics  cluster       Freq\n",
              "topic                                                \n",
              "1     -0.009076 -0.160172       1        1  50.271284\n",
              "0      0.009076  0.160172       2        1  49.728716, topic_info=         Term        Freq       Total Category  logprob  loglift\n",
              "6       ﺍﳊﺮﻳﺔ  110.000000  110.000000  Default  10.0000  10.0000\n",
              "25         ﻣﻦ   50.000000   50.000000  Default   9.0000   9.0000\n",
              "54       ﺣﺮﻳﺔ   38.000000   38.000000  Default   8.0000   8.0000\n",
              "238        ﻫﻲ   33.000000   33.000000  Default   7.0000   7.0000\n",
              "102        ﺃﻥ   32.000000   32.000000  Default   6.0000   6.0000\n",
              "239        ﺍﷲ   30.000000   30.000000  Default   5.0000   5.0000\n",
              "91     ﺍﻹﻧﺴﺎﻥ   29.000000   29.000000  Default   4.0000   4.0000\n",
              "351     ﺍﻟﻌﺎﱂ   28.000000   28.000000  Default   3.0000   3.0000\n",
              "124       ﻋﻠﻰ   27.000000   27.000000  Default   2.0000   2.0000\n",
              "49        ﻫﺬﺍ   21.000000   21.000000  Default   1.0000   1.0000\n",
              "6       ﺍﳊﺮﻳﺔ  110.546742  110.891758   Topic1  -2.5692   0.6846\n",
              "25         ﻣﻦ   50.000133   50.345667   Topic1  -3.3627   0.6808\n",
              "54       ﺣﺮﻳﺔ   37.923939   38.268646   Topic1  -3.6391   0.6787\n",
              "238        ﻫﻲ   33.587432   33.933249   Topic1  -3.7605   0.6775\n",
              "102        ﺃﻥ   32.207160   32.552619   Topic1  -3.8025   0.6771\n",
              "239        ﺍﷲ   29.811215   30.157668   Topic1  -3.8798   0.6762\n",
              "124       ﻋﻠﻰ   27.104336   27.449225   Topic1  -3.9750   0.6751\n",
              "209        ﻫﻮ   19.062133   19.408526   Topic1  -4.3270   0.6697\n",
              "70        ﺍﻟﱵ   16.792119   17.136901   Topic1  -4.4538   0.6674\n",
              "235       ﻟﻴﺲ   14.886204   15.231516   Topic1  -4.5742   0.6648\n",
              "91     ﺍﻹﻧﺴﺎﻥ   29.312054   29.705697   Topic2  -3.8858   0.6852\n",
              "351     ﺍﻟﻌﺎﱂ   28.320841   28.717668   Topic2  -3.9202   0.6847\n",
              "49        ﻫﺬﺍ   20.994154   21.388211   Topic2  -4.2196   0.6800\n",
              "53         ﻋﻦ   18.093028   18.487160   Topic2  -4.3683   0.6770\n",
              "234       ﻟﻜﻦ   17.259568   17.653874   Topic2  -4.4155   0.6760\n",
              "30         ﺇﱃ   14.421058   14.814778   Topic2  -4.5951   0.6717\n",
              "1020    ﺍﻟﻌﺪﻡ   13.891865   14.290045   Topic2  -4.6325   0.6703\n",
              "58         ﻣﺎ   13.556553   13.950484   Topic2  -4.6570   0.6699\n",
              "266   ﺍﻟﺜﺎﻧﻴﺔ   12.306409   12.700550   Topic2  -4.7537   0.6671\n",
              "282      ﻟﻴﺴﺖ   11.873493   12.268479   Topic2  -4.7895   0.6659, token_table=      Topic      Freq     Term\n",
              "term                          \n",
              "102       1  0.983024       ﺃﻥ\n",
              "30        2  0.945002       ﺇﱃ\n",
              "6         1  1.000976    ﺍﳊﺮﻳﺔ\n",
              "239       1  0.994772       ﺍﷲ\n",
              "70        1  0.992011      ﺍﻟﱵ\n",
              "266       2  0.944841  ﺍﻟﺜﺎﻧﻴﺔ\n",
              "351       2  0.975010    ﺍﻟﻌﺎﱂ\n",
              "1020      2  0.979703    ﺍﻟﻌﺪﻡ\n",
              "91        2  0.976244   ﺍﻹﻧﺴﺎﻥ\n",
              "54        1  0.992980     ﺣﺮﻳﺔ\n",
              "124       1  0.983634      ﻋﻠﻰ\n",
              "53        2  0.973649       ﻋﻦ\n",
              "234       2  0.962961      ﻟﻜﻦ\n",
              "235       1  0.984800      ﻟﻴﺲ\n",
              "282       2  0.978116     ﻟﻴﺴﺖ\n",
              "58        2  1.003549       ﻣﺎ\n",
              "25        1  0.993134       ﻣﻦ\n",
              "49        2  0.981849      ﻫﺬﺍ\n",
              "209       1  0.978951       ﻫﻮ\n",
              "238       1  1.001967       ﻫﻲ, R=10, lambda_step=0.01, plot_opts={'xlab': 'PC1', 'ylab': 'PC2'}, topic_order=[2, 1])"
            ],
            "text/html": [
              "\n",
              "<link rel=\"stylesheet\" type=\"text/css\" href=\"https://cdn.jsdelivr.net/gh/bmabey/pyLDAvis@3.4.0/pyLDAvis/js/ldavis.v1.0.0.css\">\n",
              "\n",
              "\n",
              "<div id=\"ldavis_el1851368711354792807168561308\" style=\"background-color:white;\"></div>\n",
              "<script type=\"text/javascript\">\n",
              "\n",
              "var ldavis_el1851368711354792807168561308_data = {\"mdsDat\": {\"x\": [-0.009075950888025687, 0.009075950888025687], \"y\": [-0.1601721741730466, 0.1601721741730466], \"topics\": [1, 2], \"cluster\": [1, 1], \"Freq\": [50.27128398873381, 49.72871601126619]}, \"tinfo\": {\"Term\": [\"\\ufe8d\\ufcca\\ufeae\\ufef3\\ufe94\", \"\\ufee3\\ufee6\", \"\\ufea3\\ufeae\\ufef3\\ufe94\", \"\\ufeeb\\ufef2\", \"\\ufe83\\ufee5\", \"\\ufe8d\\ufdf2\", \"\\ufe8d\\ufef9\\ufee7\\ufeb4\\ufe8e\\ufee5\", \"\\ufe8d\\ufedf\\ufecc\\ufe8e\\ufc42\", \"\\ufecb\\ufee0\\ufef0\", \"\\ufeeb\\ufeac\\ufe8d\", \"\\ufe8d\\ufcca\\ufeae\\ufef3\\ufe94\", \"\\ufee3\\ufee6\", \"\\ufea3\\ufeae\\ufef3\\ufe94\", \"\\ufeeb\\ufef2\", \"\\ufe83\\ufee5\", \"\\ufe8d\\ufdf2\", \"\\ufecb\\ufee0\\ufef0\", \"\\ufeeb\\ufeee\", \"\\ufe8d\\ufedf\\ufc75\", \"\\ufedf\\ufef4\\ufeb2\", \"\\ufe8d\\ufef9\\ufee7\\ufeb4\\ufe8e\\ufee5\", \"\\ufe8d\\ufedf\\ufecc\\ufe8e\\ufc42\", \"\\ufeeb\\ufeac\\ufe8d\", \"\\ufecb\\ufee6\", \"\\ufedf\\ufedc\\ufee6\", \"\\ufe87\\ufc43\", \"\\ufe8d\\ufedf\\ufecc\\ufeaa\\ufee1\", \"\\ufee3\\ufe8e\", \"\\ufe8d\\ufedf\\ufe9c\\ufe8e\\ufee7\\ufef4\\ufe94\", \"\\ufedf\\ufef4\\ufeb4\\ufe96\"], \"Freq\": [110.0, 50.0, 38.0, 33.0, 32.0, 30.0, 29.0, 28.0, 27.0, 21.0, 110.54674198446703, 50.000133112593915, 37.92393860805698, 33.58743204194331, 32.20716049594118, 29.811214695898645, 27.104336135770787, 19.06213261236014, 16.792119150320687, 14.886204294206319, 29.31205432105728, 28.320840744544064, 20.99415416484498, 18.093027766793814, 17.25956769835702, 14.421057643610377, 13.891864976318502, 13.556552676178555, 12.30640911161934, 11.873493127620813], \"Total\": [110.0, 50.0, 38.0, 33.0, 32.0, 30.0, 29.0, 28.0, 27.0, 21.0, 110.89175810089586, 50.345666736805164, 38.26864553701066, 33.933249112245356, 32.55261926445609, 30.157667987679734, 27.449224812610005, 19.408526069446403, 17.136900581779805, 15.231515719785225, 29.705696504208117, 28.71766839396742, 21.388211443633782, 18.487159604857805, 17.653873522064853, 14.814778376532821, 14.290044941970214, 13.950484443353695, 12.70055019083293, 12.268478679886988], \"Category\": [\"Default\", \"Default\", \"Default\", \"Default\", \"Default\", \"Default\", \"Default\", \"Default\", \"Default\", \"Default\", \"Topic1\", \"Topic1\", \"Topic1\", \"Topic1\", \"Topic1\", \"Topic1\", \"Topic1\", \"Topic1\", \"Topic1\", \"Topic1\", \"Topic2\", \"Topic2\", \"Topic2\", \"Topic2\", \"Topic2\", \"Topic2\", \"Topic2\", \"Topic2\", \"Topic2\", \"Topic2\"], \"logprob\": [10.0, 9.0, 8.0, 7.0, 6.0, 5.0, 4.0, 3.0, 2.0, 1.0, -2.5692, -3.3627, -3.6391, -3.7605, -3.8025, -3.8798, -3.975, -4.327, -4.4538, -4.5742, -3.8858, -3.9202, -4.2196, -4.3683, -4.4155, -4.5951, -4.6325, -4.657, -4.7537, -4.7895], \"loglift\": [10.0, 9.0, 8.0, 7.0, 6.0, 5.0, 4.0, 3.0, 2.0, 1.0, 0.6846, 0.6808, 0.6787, 0.6775, 0.6771, 0.6762, 0.6751, 0.6697, 0.6674, 0.6648, 0.6852, 0.6847, 0.68, 0.677, 0.676, 0.6717, 0.6703, 0.6699, 0.6671, 0.6659]}, \"token.table\": {\"Topic\": [1, 2, 1, 1, 1, 2, 2, 2, 2, 1, 1, 2, 2, 1, 2, 2, 1, 2, 1, 1], \"Freq\": [0.9830238156884816, 0.9450023243126295, 1.0009761040942795, 0.9947718773300328, 0.9920113569471624, 0.9448409572572236, 0.9750095173423559, 0.9797030070130609, 0.9762437314301603, 0.9929800092676171, 0.9836343351888162, 0.9736487586373304, 0.9629614701131962, 0.9848002179136713, 0.978116383710465, 1.0035493790088341, 0.9931341313123883, 0.9818492796998538, 0.9789512058780435, 1.001967123381962], \"Term\": [\"\\ufe83\\ufee5\", \"\\ufe87\\ufc43\", \"\\ufe8d\\ufcca\\ufeae\\ufef3\\ufe94\", \"\\ufe8d\\ufdf2\", \"\\ufe8d\\ufedf\\ufc75\", \"\\ufe8d\\ufedf\\ufe9c\\ufe8e\\ufee7\\ufef4\\ufe94\", \"\\ufe8d\\ufedf\\ufecc\\ufe8e\\ufc42\", \"\\ufe8d\\ufedf\\ufecc\\ufeaa\\ufee1\", \"\\ufe8d\\ufef9\\ufee7\\ufeb4\\ufe8e\\ufee5\", \"\\ufea3\\ufeae\\ufef3\\ufe94\", \"\\ufecb\\ufee0\\ufef0\", \"\\ufecb\\ufee6\", \"\\ufedf\\ufedc\\ufee6\", \"\\ufedf\\ufef4\\ufeb2\", \"\\ufedf\\ufef4\\ufeb4\\ufe96\", \"\\ufee3\\ufe8e\", \"\\ufee3\\ufee6\", \"\\ufeeb\\ufeac\\ufe8d\", \"\\ufeeb\\ufeee\", \"\\ufeeb\\ufef2\"]}, \"R\": 10, \"lambda.step\": 0.01, \"plot.opts\": {\"xlab\": \"PC1\", \"ylab\": \"PC2\"}, \"topic.order\": [2, 1]};\n",
              "\n",
              "function LDAvis_load_lib(url, callback){\n",
              "  var s = document.createElement('script');\n",
              "  s.src = url;\n",
              "  s.async = true;\n",
              "  s.onreadystatechange = s.onload = callback;\n",
              "  s.onerror = function(){console.warn(\"failed to load library \" + url);};\n",
              "  document.getElementsByTagName(\"head\")[0].appendChild(s);\n",
              "}\n",
              "\n",
              "if(typeof(LDAvis) !== \"undefined\"){\n",
              "   // already loaded: just create the visualization\n",
              "   !function(LDAvis){\n",
              "       new LDAvis(\"#\" + \"ldavis_el1851368711354792807168561308\", ldavis_el1851368711354792807168561308_data);\n",
              "   }(LDAvis);\n",
              "}else if(typeof define === \"function\" && define.amd){\n",
              "   // require.js is available: use it to load d3/LDAvis\n",
              "   require.config({paths: {d3: \"https://d3js.org/d3.v5\"}});\n",
              "   require([\"d3\"], function(d3){\n",
              "      window.d3 = d3;\n",
              "      LDAvis_load_lib(\"https://cdn.jsdelivr.net/gh/bmabey/pyLDAvis@3.4.0/pyLDAvis/js/ldavis.v3.0.0.js\", function(){\n",
              "        new LDAvis(\"#\" + \"ldavis_el1851368711354792807168561308\", ldavis_el1851368711354792807168561308_data);\n",
              "      });\n",
              "    });\n",
              "}else{\n",
              "    // require.js not available: dynamically load d3 & LDAvis\n",
              "    LDAvis_load_lib(\"https://d3js.org/d3.v5.js\", function(){\n",
              "         LDAvis_load_lib(\"https://cdn.jsdelivr.net/gh/bmabey/pyLDAvis@3.4.0/pyLDAvis/js/ldavis.v3.0.0.js\", function(){\n",
              "                 new LDAvis(\"#\" + \"ldavis_el1851368711354792807168561308\", ldavis_el1851368711354792807168561308_data);\n",
              "            })\n",
              "         });\n",
              "}\n",
              "</script>"
            ]
          },
          "metadata": {},
          "execution_count": 59
        }
      ]
    }
  ]
}